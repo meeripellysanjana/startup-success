{
 "cells": [
  {
   "cell_type": "markdown",
   "id": "3c9adbb3",
   "metadata": {},
   "source": [
    "# The Impact of Artificial Intelligence on Forecasting Startup Success or Failure using Crunchbase Data"
   ]
  },
  {
   "cell_type": "code",
   "execution_count": 1,
   "id": "57f54c60",
   "metadata": {},
   "outputs": [],
   "source": [
    "import pandas as pd\n",
    "import numpy as np\n",
    "import seaborn as sns\n",
    "import matplotlib.pyplot as plt\n",
    "import missingno as msno\n",
    "import warnings \n",
    "warnings.filterwarnings('ignore')\n",
    "from sklearn.metrics import accuracy_score\n",
    "from sklearn.metrics import confusion_matrix\n",
    "from sklearn.metrics import classification_report\n",
    "from sklearn.ensemble import RandomForestClassifier\n",
    "from sklearn.model_selection import GridSearchCV"
   ]
  },
  {
   "cell_type": "code",
   "execution_count": 2,
   "id": "e9a47841",
   "metadata": {},
   "outputs": [
    {
     "data": {
      "text/html": [
       "<div>\n",
       "<style scoped>\n",
       "    .dataframe tbody tr th:only-of-type {\n",
       "        vertical-align: middle;\n",
       "    }\n",
       "\n",
       "    .dataframe tbody tr th {\n",
       "        vertical-align: top;\n",
       "    }\n",
       "\n",
       "    .dataframe thead th {\n",
       "        text-align: right;\n",
       "    }\n",
       "</style>\n",
       "<table border=\"1\" class=\"dataframe\">\n",
       "  <thead>\n",
       "    <tr style=\"text-align: right;\">\n",
       "      <th></th>\n",
       "      <th>permalink</th>\n",
       "      <th>name</th>\n",
       "      <th>homepage_url</th>\n",
       "      <th>category_list</th>\n",
       "      <th>funding_total_usd</th>\n",
       "      <th>status</th>\n",
       "      <th>country_code</th>\n",
       "      <th>state_code</th>\n",
       "      <th>region</th>\n",
       "      <th>city</th>\n",
       "      <th>funding_rounds</th>\n",
       "      <th>founded_at</th>\n",
       "      <th>first_funding_at</th>\n",
       "      <th>last_funding_at</th>\n",
       "    </tr>\n",
       "  </thead>\n",
       "  <tbody>\n",
       "    <tr>\n",
       "      <th>0</th>\n",
       "      <td>/organization/-fame</td>\n",
       "      <td>#fame</td>\n",
       "      <td>http://livfame.com</td>\n",
       "      <td>Media</td>\n",
       "      <td>10000000</td>\n",
       "      <td>operating</td>\n",
       "      <td>IND</td>\n",
       "      <td>16</td>\n",
       "      <td>Mumbai</td>\n",
       "      <td>Mumbai</td>\n",
       "      <td>1</td>\n",
       "      <td>NaN</td>\n",
       "      <td>2015-01-05</td>\n",
       "      <td>2015-01-05</td>\n",
       "    </tr>\n",
       "    <tr>\n",
       "      <th>1</th>\n",
       "      <td>/organization/-qounter</td>\n",
       "      <td>:Qounter</td>\n",
       "      <td>http://www.qounter.com</td>\n",
       "      <td>Application Platforms|Real Time|Social Network...</td>\n",
       "      <td>700000</td>\n",
       "      <td>operating</td>\n",
       "      <td>USA</td>\n",
       "      <td>DE</td>\n",
       "      <td>DE - Other</td>\n",
       "      <td>Delaware City</td>\n",
       "      <td>2</td>\n",
       "      <td>2014-09-04</td>\n",
       "      <td>2014-03-01</td>\n",
       "      <td>2014-10-14</td>\n",
       "    </tr>\n",
       "    <tr>\n",
       "      <th>2</th>\n",
       "      <td>/organization/-the-one-of-them-inc-</td>\n",
       "      <td>(THE) ONE of THEM,Inc.</td>\n",
       "      <td>http://oneofthem.jp</td>\n",
       "      <td>Apps|Games|Mobile</td>\n",
       "      <td>3406878</td>\n",
       "      <td>operating</td>\n",
       "      <td>NaN</td>\n",
       "      <td>NaN</td>\n",
       "      <td>NaN</td>\n",
       "      <td>NaN</td>\n",
       "      <td>1</td>\n",
       "      <td>NaN</td>\n",
       "      <td>2014-01-30</td>\n",
       "      <td>2014-01-30</td>\n",
       "    </tr>\n",
       "    <tr>\n",
       "      <th>3</th>\n",
       "      <td>/organization/0-6-com</td>\n",
       "      <td>0-6.com</td>\n",
       "      <td>http://www.0-6.com</td>\n",
       "      <td>Curated Web</td>\n",
       "      <td>2000000</td>\n",
       "      <td>operating</td>\n",
       "      <td>CHN</td>\n",
       "      <td>22</td>\n",
       "      <td>Beijing</td>\n",
       "      <td>Beijing</td>\n",
       "      <td>1</td>\n",
       "      <td>2007-01-01</td>\n",
       "      <td>2008-03-19</td>\n",
       "      <td>2008-03-19</td>\n",
       "    </tr>\n",
       "    <tr>\n",
       "      <th>4</th>\n",
       "      <td>/organization/004-technologies</td>\n",
       "      <td>004 Technologies</td>\n",
       "      <td>http://004gmbh.de/en/004-interact</td>\n",
       "      <td>Software</td>\n",
       "      <td>-</td>\n",
       "      <td>operating</td>\n",
       "      <td>USA</td>\n",
       "      <td>IL</td>\n",
       "      <td>Springfield, Illinois</td>\n",
       "      <td>Champaign</td>\n",
       "      <td>1</td>\n",
       "      <td>2010-01-01</td>\n",
       "      <td>2014-07-24</td>\n",
       "      <td>2014-07-24</td>\n",
       "    </tr>\n",
       "    <tr>\n",
       "      <th>...</th>\n",
       "      <td>...</td>\n",
       "      <td>...</td>\n",
       "      <td>...</td>\n",
       "      <td>...</td>\n",
       "      <td>...</td>\n",
       "      <td>...</td>\n",
       "      <td>...</td>\n",
       "      <td>...</td>\n",
       "      <td>...</td>\n",
       "      <td>...</td>\n",
       "      <td>...</td>\n",
       "      <td>...</td>\n",
       "      <td>...</td>\n",
       "      <td>...</td>\n",
       "    </tr>\n",
       "    <tr>\n",
       "      <th>66363</th>\n",
       "      <td>/organization/zznode-science-and-technology-co...</td>\n",
       "      <td>ZZNode Science and Technology</td>\n",
       "      <td>http://www.zznode.com</td>\n",
       "      <td>Enterprise Software</td>\n",
       "      <td>1587301</td>\n",
       "      <td>operating</td>\n",
       "      <td>CHN</td>\n",
       "      <td>22</td>\n",
       "      <td>Beijing</td>\n",
       "      <td>Beijing</td>\n",
       "      <td>1</td>\n",
       "      <td>NaN</td>\n",
       "      <td>2012-04-01</td>\n",
       "      <td>2012-04-01</td>\n",
       "    </tr>\n",
       "    <tr>\n",
       "      <th>66364</th>\n",
       "      <td>/organization/zzzzapp-com</td>\n",
       "      <td>Zzzzapp Wireless ltd.</td>\n",
       "      <td>http://www.zzzzapp.com</td>\n",
       "      <td>Advertising|Mobile|Web Development|Wireless</td>\n",
       "      <td>114304</td>\n",
       "      <td>operating</td>\n",
       "      <td>HRV</td>\n",
       "      <td>15</td>\n",
       "      <td>Split</td>\n",
       "      <td>Split</td>\n",
       "      <td>4</td>\n",
       "      <td>2012-05-13</td>\n",
       "      <td>2011-11-01</td>\n",
       "      <td>2014-03-01</td>\n",
       "    </tr>\n",
       "    <tr>\n",
       "      <th>66365</th>\n",
       "      <td>/organization/Áeron</td>\n",
       "      <td>ÁERON</td>\n",
       "      <td>http://www.aeron.hu/</td>\n",
       "      <td>NaN</td>\n",
       "      <td>-</td>\n",
       "      <td>operating</td>\n",
       "      <td>NaN</td>\n",
       "      <td>NaN</td>\n",
       "      <td>NaN</td>\n",
       "      <td>NaN</td>\n",
       "      <td>1</td>\n",
       "      <td>2011-01-01</td>\n",
       "      <td>2014-08-01</td>\n",
       "      <td>2014-08-01</td>\n",
       "    </tr>\n",
       "    <tr>\n",
       "      <th>66366</th>\n",
       "      <td>/organization/Ôasys-2</td>\n",
       "      <td>Ôasys</td>\n",
       "      <td>http://www.oasys.io/</td>\n",
       "      <td>Consumer Electronics|Internet of Things|Teleco...</td>\n",
       "      <td>18192</td>\n",
       "      <td>operating</td>\n",
       "      <td>USA</td>\n",
       "      <td>CA</td>\n",
       "      <td>SF Bay Area</td>\n",
       "      <td>San Francisco</td>\n",
       "      <td>1</td>\n",
       "      <td>2014-01-01</td>\n",
       "      <td>2015-01-01</td>\n",
       "      <td>2015-01-01</td>\n",
       "    </tr>\n",
       "    <tr>\n",
       "      <th>66367</th>\n",
       "      <td>/organization/İnovatiff-reklam-ve-tanıtım-hizm...</td>\n",
       "      <td>İnovatiff Reklam ve Tanıtım Hizmetleri Tic</td>\n",
       "      <td>http://inovatiff.com</td>\n",
       "      <td>Consumer Goods|E-Commerce|Internet</td>\n",
       "      <td>14851</td>\n",
       "      <td>operating</td>\n",
       "      <td>NaN</td>\n",
       "      <td>NaN</td>\n",
       "      <td>NaN</td>\n",
       "      <td>NaN</td>\n",
       "      <td>1</td>\n",
       "      <td>NaN</td>\n",
       "      <td>2013-10-01</td>\n",
       "      <td>2013-10-01</td>\n",
       "    </tr>\n",
       "  </tbody>\n",
       "</table>\n",
       "<p>66368 rows × 14 columns</p>\n",
       "</div>"
      ],
      "text/plain": [
       "                                               permalink  \\\n",
       "0                                    /organization/-fame   \n",
       "1                                 /organization/-qounter   \n",
       "2                    /organization/-the-one-of-them-inc-   \n",
       "3                                  /organization/0-6-com   \n",
       "4                         /organization/004-technologies   \n",
       "...                                                  ...   \n",
       "66363  /organization/zznode-science-and-technology-co...   \n",
       "66364                          /organization/zzzzapp-com   \n",
       "66365                                /organization/Áeron   \n",
       "66366                              /organization/Ôasys-2   \n",
       "66367  /organization/İnovatiff-reklam-ve-tanıtım-hizm...   \n",
       "\n",
       "                                             name  \\\n",
       "0                                           #fame   \n",
       "1                                        :Qounter   \n",
       "2                          (THE) ONE of THEM,Inc.   \n",
       "3                                         0-6.com   \n",
       "4                                004 Technologies   \n",
       "...                                           ...   \n",
       "66363               ZZNode Science and Technology   \n",
       "66364                       Zzzzapp Wireless ltd.   \n",
       "66365                                       ÁERON   \n",
       "66366                                       Ôasys   \n",
       "66367  İnovatiff Reklam ve Tanıtım Hizmetleri Tic   \n",
       "\n",
       "                            homepage_url  \\\n",
       "0                     http://livfame.com   \n",
       "1                 http://www.qounter.com   \n",
       "2                    http://oneofthem.jp   \n",
       "3                     http://www.0-6.com   \n",
       "4      http://004gmbh.de/en/004-interact   \n",
       "...                                  ...   \n",
       "66363              http://www.zznode.com   \n",
       "66364             http://www.zzzzapp.com   \n",
       "66365               http://www.aeron.hu/   \n",
       "66366               http://www.oasys.io/   \n",
       "66367               http://inovatiff.com   \n",
       "\n",
       "                                           category_list funding_total_usd  \\\n",
       "0                                                  Media          10000000   \n",
       "1      Application Platforms|Real Time|Social Network...            700000   \n",
       "2                                      Apps|Games|Mobile           3406878   \n",
       "3                                            Curated Web           2000000   \n",
       "4                                               Software                 -   \n",
       "...                                                  ...               ...   \n",
       "66363                                Enterprise Software           1587301   \n",
       "66364        Advertising|Mobile|Web Development|Wireless            114304   \n",
       "66365                                                NaN                 -   \n",
       "66366  Consumer Electronics|Internet of Things|Teleco...             18192   \n",
       "66367                 Consumer Goods|E-Commerce|Internet             14851   \n",
       "\n",
       "          status country_code state_code                 region  \\\n",
       "0      operating          IND         16                 Mumbai   \n",
       "1      operating          USA         DE             DE - Other   \n",
       "2      operating          NaN        NaN                    NaN   \n",
       "3      operating          CHN         22                Beijing   \n",
       "4      operating          USA         IL  Springfield, Illinois   \n",
       "...          ...          ...        ...                    ...   \n",
       "66363  operating          CHN         22                Beijing   \n",
       "66364  operating          HRV         15                  Split   \n",
       "66365  operating          NaN        NaN                    NaN   \n",
       "66366  operating          USA         CA            SF Bay Area   \n",
       "66367  operating          NaN        NaN                    NaN   \n",
       "\n",
       "                city  funding_rounds  founded_at first_funding_at  \\\n",
       "0             Mumbai               1         NaN       2015-01-05   \n",
       "1      Delaware City               2  2014-09-04       2014-03-01   \n",
       "2                NaN               1         NaN       2014-01-30   \n",
       "3            Beijing               1  2007-01-01       2008-03-19   \n",
       "4          Champaign               1  2010-01-01       2014-07-24   \n",
       "...              ...             ...         ...              ...   \n",
       "66363        Beijing               1         NaN       2012-04-01   \n",
       "66364          Split               4  2012-05-13       2011-11-01   \n",
       "66365            NaN               1  2011-01-01       2014-08-01   \n",
       "66366  San Francisco               1  2014-01-01       2015-01-01   \n",
       "66367            NaN               1         NaN       2013-10-01   \n",
       "\n",
       "      last_funding_at  \n",
       "0          2015-01-05  \n",
       "1          2014-10-14  \n",
       "2          2014-01-30  \n",
       "3          2008-03-19  \n",
       "4          2014-07-24  \n",
       "...               ...  \n",
       "66363      2012-04-01  \n",
       "66364      2014-03-01  \n",
       "66365      2014-08-01  \n",
       "66366      2015-01-01  \n",
       "66367      2013-10-01  \n",
       "\n",
       "[66368 rows x 14 columns]"
      ]
     },
     "execution_count": 2,
     "metadata": {},
     "output_type": "execute_result"
    }
   ],
   "source": [
    "dataset=pd.read_csv(r\"dataset.csv\")\n",
    "dataset"
   ]
  },
  {
   "cell_type": "code",
   "execution_count": 3,
   "id": "93411850",
   "metadata": {},
   "outputs": [
    {
     "name": "stdout",
     "output_type": "stream",
     "text": [
      "<class 'pandas.core.frame.DataFrame'>\n",
      "RangeIndex: 66368 entries, 0 to 66367\n",
      "Data columns (total 14 columns):\n",
      "permalink            66368 non-null object\n",
      "name                 66367 non-null object\n",
      "homepage_url         61310 non-null object\n",
      "category_list        63220 non-null object\n",
      "funding_total_usd    66368 non-null object\n",
      "status               66368 non-null object\n",
      "country_code         59410 non-null object\n",
      "state_code           57821 non-null object\n",
      "region               58338 non-null object\n",
      "city                 58340 non-null object\n",
      "funding_rounds       66368 non-null int64\n",
      "founded_at           51147 non-null object\n",
      "first_funding_at     66344 non-null object\n",
      "last_funding_at      66368 non-null object\n",
      "dtypes: int64(1), object(13)\n",
      "memory usage: 7.1+ MB\n"
     ]
    }
   ],
   "source": [
    "dataset.info()"
   ]
  },
  {
   "cell_type": "code",
   "execution_count": 4,
   "id": "2ec173c1",
   "metadata": {},
   "outputs": [
    {
     "data": {
      "text/plain": [
       "permalink                0\n",
       "name                     1\n",
       "homepage_url          5058\n",
       "category_list         3148\n",
       "funding_total_usd        0\n",
       "status                   0\n",
       "country_code          6958\n",
       "state_code            8547\n",
       "region                8030\n",
       "city                  8028\n",
       "funding_rounds           0\n",
       "founded_at           15221\n",
       "first_funding_at        24\n",
       "last_funding_at          0\n",
       "dtype: int64"
      ]
     },
     "execution_count": 4,
     "metadata": {},
     "output_type": "execute_result"
    }
   ],
   "source": [
    "dataset.isnull().sum()"
   ]
  },
  {
   "cell_type": "code",
   "execution_count": 5,
   "id": "3f3e6af0",
   "metadata": {},
   "outputs": [
    {
     "data": {
      "text/plain": [
       "permalink            66368\n",
       "name                 66367\n",
       "homepage_url         61310\n",
       "category_list        63220\n",
       "funding_total_usd    66368\n",
       "status               66368\n",
       "country_code         59410\n",
       "state_code           57821\n",
       "region               58338\n",
       "city                 58340\n",
       "funding_rounds       66368\n",
       "founded_at           51147\n",
       "first_funding_at     66344\n",
       "last_funding_at      66368\n",
       "dtype: int64"
      ]
     },
     "execution_count": 5,
     "metadata": {},
     "output_type": "execute_result"
    }
   ],
   "source": [
    "dataset.count()"
   ]
  },
  {
   "cell_type": "code",
   "execution_count": 6,
   "id": "a3b443eb",
   "metadata": {},
   "outputs": [
    {
     "data": {
      "image/png": "[encoded data removed]",
      "text/plain": [
       "<Figure size 640x480 with 2 Axes>"
      ]
     },
     "metadata": {},
     "output_type": "display_data"
    }
   ],
   "source": [
    "missing_values = dataset.isnull()\n",
    "\n",
    "# Create the heatmap\n",
    "sns.heatmap(missing_values, cmap='YlGnBu')\n",
    "\n",
    "# Set plot title\n",
    "plt.title('Missing Values Heatmap')\n",
    "\n",
    "# Display the plot\n",
    "plt.show()"
   ]
  },
  {
   "cell_type": "code",
   "execution_count": 7,
   "id": "bbca18a0",
   "metadata": {},
   "outputs": [
    {
     "data": {
      "text/plain": [
       "Text(0, 0.5, 'Number of startups')"
      ]
     },
     "execution_count": 7,
     "metadata": {},
     "output_type": "execute_result"
    },
    {
     "data": {
      "image/png": "[encoded data removed]",
      "text/plain": [
       "<Figure size 800x600 with 1 Axes>"
      ]
     },
     "metadata": {},
     "output_type": "display_data"
    }
   ],
   "source": [
    "plt.figure(figsize=(8,6))\n",
    "sns.barplot(x=dataset['status'].value_counts().index,y=dataset['status'].value_counts())\n",
    "plt.title('Number of startups by status',size=18)\n",
    "plt.ylabel('Number of startups',size=12)"
   ]
  },
  {
   "cell_type": "code",
   "execution_count": 8,
   "id": "238083c6",
   "metadata": {},
   "outputs": [],
   "source": [
    "#DEALING WITH NULL VALUES"
   ]
  },
  {
   "cell_type": "code",
   "execution_count": 9,
   "id": "d6993458",
   "metadata": {},
   "outputs": [
    {
     "name": "stdout",
     "output_type": "stream",
     "text": [
      "<class 'pandas.core.frame.DataFrame'>\n",
      "Int64Index: 36549 entries, 1 to 66366\n",
      "Data columns (total 14 columns):\n",
      "permalink            36549 non-null object\n",
      "name                 36549 non-null object\n",
      "homepage_url         36549 non-null object\n",
      "category_list        36549 non-null object\n",
      "funding_total_usd    36549 non-null float64\n",
      "status               36549 non-null object\n",
      "country_code         36549 non-null object\n",
      "state_code           36549 non-null object\n",
      "region               36549 non-null object\n",
      "city                 36549 non-null object\n",
      "funding_rounds       36549 non-null int64\n",
      "founded_at           36549 non-null datetime64[ns]\n",
      "first_funding_at     36549 non-null datetime64[ns]\n",
      "last_funding_at      36549 non-null datetime64[ns]\n",
      "dtypes: datetime64[ns](3), float64(1), int64(1), object(9)\n",
      "memory usage: 4.2+ MB\n"
     ]
    }
   ],
   "source": [
    "# drop all rows with NA and any rows where funding_total_usd is '-'\n",
    "startup = dataset.dropna().query(\"funding_total_usd != '-' \")\n",
    "# Converting funding_total_usd to float\n",
    "startup['funding_total_usd'] = startup['funding_total_usd'].astype(float)\n",
    "\n",
    "# Formatting founded_at, first_funding_at, last_funding_at to datetime. If there are errors, convert it to NA\n",
    "startup['founded_at'] = pd.to_datetime(startup['founded_at'], format='%Y-%m-%d', errors='coerce')\n",
    "startup['first_funding_at'] = pd.to_datetime(startup['first_funding_at'], format='%Y-%m-%d', errors='coerce')\n",
    "startup['last_funding_at'] = pd.to_datetime(startup['last_funding_at'], format='%Y-%m-%d', errors='coerce')\n",
    "\n",
    "# drop the rows with NA to get the finally cleaned table\n",
    "startup = startup.dropna()\n",
    "startup.info()"
   ]
  },
  {
   "cell_type": "code",
   "execution_count": 10,
   "id": "bd70db66",
   "metadata": {},
   "outputs": [],
   "source": [
    "startup['last_funding_at'] = startup['last_funding_at'].replace('21050501', '20150501')"
   ]
  },
  {
   "cell_type": "code",
   "execution_count": 11,
   "id": "ed387031",
   "metadata": {},
   "outputs": [
    {
     "name": "stdout",
     "output_type": "stream",
     "text": [
      "<class 'pandas.core.frame.DataFrame'>\n",
      "Int64Index: 36549 entries, 1 to 66366\n",
      "Data columns (total 14 columns):\n",
      "permalink            36549 non-null object\n",
      "name                 36549 non-null object\n",
      "homepage_url         36549 non-null object\n",
      "category_list        36549 non-null object\n",
      "funding_total_usd    36549 non-null float64\n",
      "status               36549 non-null object\n",
      "country_code         36549 non-null object\n",
      "state_code           36549 non-null object\n",
      "region               36549 non-null object\n",
      "city                 36549 non-null object\n",
      "funding_rounds       36549 non-null int64\n",
      "founded_at           36549 non-null datetime64[ns]\n",
      "first_funding_at     36549 non-null datetime64[ns]\n",
      "last_funding_at      36549 non-null datetime64[ns]\n",
      "dtypes: datetime64[ns](3), float64(1), int64(1), object(9)\n",
      "memory usage: 4.2+ MB\n"
     ]
    }
   ],
   "source": [
    "startup.info()"
   ]
  },
  {
   "cell_type": "code",
   "execution_count": 12,
   "id": "538de8e7",
   "metadata": {},
   "outputs": [],
   "source": [
    "startup.to_csv('startup.csv')"
   ]
  },
  {
   "cell_type": "code",
   "execution_count": 13,
   "id": "24b2f658",
   "metadata": {},
   "outputs": [],
   "source": [
    "startup_modeling = startup.query(\"status == 'acquired' or status == 'ipo' or status == 'closed'\")"
   ]
  },
  {
   "cell_type": "code",
   "execution_count": 14,
   "id": "3ecf249c",
   "metadata": {},
   "outputs": [
    {
     "data": {
      "image/png": "[encoded data removed]",
      "text/plain": [
       "<Figure size 800x600 with 1 Axes>"
      ]
     },
     "metadata": {},
     "output_type": "display_data"
    }
   ],
   "source": [
    "plt.style.use('seaborn-pastel')\n",
    "plt.figure(figsize=(8,6))\n",
    "plt.title('Number of startups by status_class')\n",
    "sns.barplot(x= startup_modeling.status.value_counts().index, y=startup_modeling.status.value_counts())\n",
    "def addlabels(x,y):\n",
    "    for i in range(len(x)):\n",
    "        plt.text(i-.20,y[i],y[i])\n",
    "\n",
    "addlabels(startup_modeling.status.value_counts().index,startup_modeling.status.value_counts())"
   ]
  },
  {
   "cell_type": "code",
   "execution_count": 15,
   "id": "68322e09",
   "metadata": {},
   "outputs": [],
   "source": [
    "# Change 'acquired' and 'ipo' to 's', 'operating' and 'closed' to 'ns'.\n",
    "startup_modeling['status'] = startup_modeling['status'].replace({'acquired':'s', 'ipo':'s', 'closed':'f'})\n",
    "\n",
    "# Calculate the funding_period_year using last_funding_at and first_funding_at\n",
    "startup_modeling['funding_period_year'] = (startup_modeling['last_funding_at'] - startup_modeling['first_funding_at']) / pd.Timedelta(days = 365.25)\n",
    "startup_modeling['funding_period_year'] = startup_modeling['funding_period_year'].round(1)"
   ]
  },
  {
   "cell_type": "code",
   "execution_count": 16,
   "id": "fd27e549",
   "metadata": {},
   "outputs": [
    {
     "data": {
      "image/png": "[encoded data removed]",
      "text/plain": [
       "<Figure size 800x600 with 1 Axes>"
      ]
     },
     "metadata": {},
     "output_type": "display_data"
    }
   ],
   "source": [
    "plt.style.use('seaborn-pastel')\n",
    "plt.figure(figsize=(8,6))\n",
    "plt.title('Number of startups by status_class')\n",
    "sns.barplot(x= startup_modeling.status.value_counts().index, y=startup_modeling.status.value_counts())\n",
    "def addlabels(x,y):\n",
    "    for i in range(len(x)):\n",
    "        plt.text(i-.20,y[i],y[i])\n",
    "\n",
    "addlabels(startup_modeling.status.value_counts().index,startup_modeling.status.value_counts())"
   ]
  },
  {
   "cell_type": "code",
   "execution_count": 17,
   "id": "3f595caf",
   "metadata": {},
   "outputs": [
    {
     "data": {
      "text/html": [
       "<div>\n",
       "<style scoped>\n",
       "    .dataframe tbody tr th:only-of-type {\n",
       "        vertical-align: middle;\n",
       "    }\n",
       "\n",
       "    .dataframe tbody tr th {\n",
       "        vertical-align: top;\n",
       "    }\n",
       "\n",
       "    .dataframe thead th {\n",
       "        text-align: right;\n",
       "    }\n",
       "</style>\n",
       "<table border=\"1\" class=\"dataframe\">\n",
       "  <thead>\n",
       "    <tr style=\"text-align: right;\">\n",
       "      <th></th>\n",
       "      <th>status</th>\n",
       "      <th>funding_rounds</th>\n",
       "      <th>funding_period_year</th>\n",
       "      <th>funding_total_usd</th>\n",
       "    </tr>\n",
       "  </thead>\n",
       "  <tbody>\n",
       "    <tr>\n",
       "      <th>15</th>\n",
       "      <td>s</td>\n",
       "      <td>1</td>\n",
       "      <td>0.0</td>\n",
       "      <td>5000000.0</td>\n",
       "    </tr>\n",
       "    <tr>\n",
       "      <th>20</th>\n",
       "      <td>s</td>\n",
       "      <td>1</td>\n",
       "      <td>0.0</td>\n",
       "      <td>500000.0</td>\n",
       "    </tr>\n",
       "    <tr>\n",
       "      <th>23</th>\n",
       "      <td>s</td>\n",
       "      <td>2</td>\n",
       "      <td>1.1</td>\n",
       "      <td>2535000.0</td>\n",
       "    </tr>\n",
       "    <tr>\n",
       "      <th>31</th>\n",
       "      <td>s</td>\n",
       "      <td>2</td>\n",
       "      <td>0.1</td>\n",
       "      <td>1250000.0</td>\n",
       "    </tr>\n",
       "    <tr>\n",
       "      <th>32</th>\n",
       "      <td>s</td>\n",
       "      <td>1</td>\n",
       "      <td>0.0</td>\n",
       "      <td>35000000.0</td>\n",
       "    </tr>\n",
       "    <tr>\n",
       "      <th>...</th>\n",
       "      <td>...</td>\n",
       "      <td>...</td>\n",
       "      <td>...</td>\n",
       "      <td>...</td>\n",
       "    </tr>\n",
       "    <tr>\n",
       "      <th>66343</th>\n",
       "      <td>f</td>\n",
       "      <td>3</td>\n",
       "      <td>3.1</td>\n",
       "      <td>2257464.0</td>\n",
       "    </tr>\n",
       "    <tr>\n",
       "      <th>66349</th>\n",
       "      <td>s</td>\n",
       "      <td>2</td>\n",
       "      <td>0.8</td>\n",
       "      <td>3805520.0</td>\n",
       "    </tr>\n",
       "    <tr>\n",
       "      <th>66350</th>\n",
       "      <td>s</td>\n",
       "      <td>1</td>\n",
       "      <td>0.0</td>\n",
       "      <td>13000000.0</td>\n",
       "    </tr>\n",
       "    <tr>\n",
       "      <th>66352</th>\n",
       "      <td>s</td>\n",
       "      <td>9</td>\n",
       "      <td>4.1</td>\n",
       "      <td>866550786.0</td>\n",
       "    </tr>\n",
       "    <tr>\n",
       "      <th>66358</th>\n",
       "      <td>f</td>\n",
       "      <td>4</td>\n",
       "      <td>5.1</td>\n",
       "      <td>15419877.0</td>\n",
       "    </tr>\n",
       "  </tbody>\n",
       "</table>\n",
       "<p>7041 rows × 4 columns</p>\n",
       "</div>"
      ],
      "text/plain": [
       "      status  funding_rounds  funding_period_year  funding_total_usd\n",
       "15         s               1                  0.0          5000000.0\n",
       "20         s               1                  0.0           500000.0\n",
       "23         s               2                  1.1          2535000.0\n",
       "31         s               2                  0.1          1250000.0\n",
       "32         s               1                  0.0         35000000.0\n",
       "...      ...             ...                  ...                ...\n",
       "66343      f               3                  3.1          2257464.0\n",
       "66349      s               2                  0.8          3805520.0\n",
       "66350      s               1                  0.0         13000000.0\n",
       "66352      s               9                  4.1        866550786.0\n",
       "66358      f               4                  5.1         15419877.0\n",
       "\n",
       "[7041 rows x 4 columns]"
      ]
     },
     "execution_count": 17,
     "metadata": {},
     "output_type": "execute_result"
    }
   ],
   "source": [
    "startup_id3 = startup_modeling[['status','funding_rounds','funding_period_year','funding_total_usd']]\n",
    "startup_id3"
   ]
  },
  {
   "cell_type": "code",
   "execution_count": 18,
   "id": "e150305e",
   "metadata": {},
   "outputs": [],
   "source": [
    "# Having the features as funding_rounds, funding_period_year, funding_total_usd\n",
    "X_id3 = startup_id3.iloc[:,1:]\n",
    "\n",
    "# the result will be the status\n",
    "y_id3 = startup_id3.iloc[:,0]"
   ]
  },
  {
   "cell_type": "code",
   "execution_count": 19,
   "id": "e3a72e18",
   "metadata": {},
   "outputs": [
    {
     "data": {
      "text/html": [
       "<div>\n",
       "<style scoped>\n",
       "    .dataframe tbody tr th:only-of-type {\n",
       "        vertical-align: middle;\n",
       "    }\n",
       "\n",
       "    .dataframe tbody tr th {\n",
       "        vertical-align: top;\n",
       "    }\n",
       "\n",
       "    .dataframe thead th {\n",
       "        text-align: right;\n",
       "    }\n",
       "</style>\n",
       "<table border=\"1\" class=\"dataframe\">\n",
       "  <thead>\n",
       "    <tr style=\"text-align: right;\">\n",
       "      <th></th>\n",
       "      <th>funding_rounds</th>\n",
       "      <th>funding_period_year</th>\n",
       "      <th>funding_total_usd</th>\n",
       "    </tr>\n",
       "  </thead>\n",
       "  <tbody>\n",
       "    <tr>\n",
       "      <th>15</th>\n",
       "      <td>1</td>\n",
       "      <td>0.0</td>\n",
       "      <td>5000000.0</td>\n",
       "    </tr>\n",
       "    <tr>\n",
       "      <th>20</th>\n",
       "      <td>1</td>\n",
       "      <td>0.0</td>\n",
       "      <td>500000.0</td>\n",
       "    </tr>\n",
       "    <tr>\n",
       "      <th>23</th>\n",
       "      <td>2</td>\n",
       "      <td>1.1</td>\n",
       "      <td>2535000.0</td>\n",
       "    </tr>\n",
       "    <tr>\n",
       "      <th>31</th>\n",
       "      <td>2</td>\n",
       "      <td>0.1</td>\n",
       "      <td>1250000.0</td>\n",
       "    </tr>\n",
       "    <tr>\n",
       "      <th>32</th>\n",
       "      <td>1</td>\n",
       "      <td>0.0</td>\n",
       "      <td>35000000.0</td>\n",
       "    </tr>\n",
       "    <tr>\n",
       "      <th>...</th>\n",
       "      <td>...</td>\n",
       "      <td>...</td>\n",
       "      <td>...</td>\n",
       "    </tr>\n",
       "    <tr>\n",
       "      <th>66343</th>\n",
       "      <td>3</td>\n",
       "      <td>3.1</td>\n",
       "      <td>2257464.0</td>\n",
       "    </tr>\n",
       "    <tr>\n",
       "      <th>66349</th>\n",
       "      <td>2</td>\n",
       "      <td>0.8</td>\n",
       "      <td>3805520.0</td>\n",
       "    </tr>\n",
       "    <tr>\n",
       "      <th>66350</th>\n",
       "      <td>1</td>\n",
       "      <td>0.0</td>\n",
       "      <td>13000000.0</td>\n",
       "    </tr>\n",
       "    <tr>\n",
       "      <th>66352</th>\n",
       "      <td>9</td>\n",
       "      <td>4.1</td>\n",
       "      <td>866550786.0</td>\n",
       "    </tr>\n",
       "    <tr>\n",
       "      <th>66358</th>\n",
       "      <td>4</td>\n",
       "      <td>5.1</td>\n",
       "      <td>15419877.0</td>\n",
       "    </tr>\n",
       "  </tbody>\n",
       "</table>\n",
       "<p>7041 rows × 3 columns</p>\n",
       "</div>"
      ],
      "text/plain": [
       "       funding_rounds  funding_period_year  funding_total_usd\n",
       "15                  1                  0.0          5000000.0\n",
       "20                  1                  0.0           500000.0\n",
       "23                  2                  1.1          2535000.0\n",
       "31                  2                  0.1          1250000.0\n",
       "32                  1                  0.0         35000000.0\n",
       "...               ...                  ...                ...\n",
       "66343               3                  3.1          2257464.0\n",
       "66349               2                  0.8          3805520.0\n",
       "66350               1                  0.0         13000000.0\n",
       "66352               9                  4.1        866550786.0\n",
       "66358               4                  5.1         15419877.0\n",
       "\n",
       "[7041 rows x 3 columns]"
      ]
     },
     "execution_count": 19,
     "metadata": {},
     "output_type": "execute_result"
    }
   ],
   "source": [
    "X_id3"
   ]
  },
  {
   "cell_type": "code",
   "execution_count": 20,
   "id": "8a662041",
   "metadata": {},
   "outputs": [
    {
     "data": {
      "text/plain": [
       "15       s\n",
       "20       s\n",
       "23       s\n",
       "31       s\n",
       "32       s\n",
       "        ..\n",
       "66343    f\n",
       "66349    s\n",
       "66350    s\n",
       "66352    s\n",
       "66358    f\n",
       "Name: status, Length: 7041, dtype: object"
      ]
     },
     "execution_count": 20,
     "metadata": {},
     "output_type": "execute_result"
    }
   ],
   "source": [
    "y_id3"
   ]
  },
  {
   "cell_type": "code",
   "execution_count": 21,
   "id": "0232f05a",
   "metadata": {},
   "outputs": [],
   "source": [
    "from sklearn.model_selection import train_test_split\n",
    "X_train_id3, X_test_id3, y_train_id3, y_test_id3 = train_test_split(X_id3, y_id3, random_state = 42)"
   ]
  },
  {
   "cell_type": "markdown",
   "id": "fadd02a7",
   "metadata": {},
   "source": [
    "# DecisionTreeClassifier"
   ]
  },
  {
   "cell_type": "code",
   "execution_count": 22,
   "id": "d2c3e9e7",
   "metadata": {},
   "outputs": [
    {
     "data": {
      "text/plain": [
       "DecisionTreeClassifier(criterion='entropy', random_state=42)"
      ]
     },
     "execution_count": 22,
     "metadata": {},
     "output_type": "execute_result"
    }
   ],
   "source": [
    "# Create decision tree model and fit train model\n",
    "from sklearn.tree import DecisionTreeClassifier\n",
    "dt_id3 = DecisionTreeClassifier(random_state=42, criterion='entropy')\n",
    "dt_id3.fit(X_train_id3, y_train_id3)"
   ]
  },
  {
   "cell_type": "code",
   "execution_count": 23,
   "id": "631eab8f",
   "metadata": {},
   "outputs": [],
   "source": [
    "Y_pred=dt_id3.predict(X_test_id3)"
   ]
  },
  {
   "cell_type": "code",
   "execution_count": 24,
   "id": "c3ac6570",
   "metadata": {},
   "outputs": [
    {
     "data": {
      "text/plain": [
       "array(['f', 'f', 's', ..., 's', 's', 'f'], dtype=object)"
      ]
     },
     "execution_count": 24,
     "metadata": {},
     "output_type": "execute_result"
    }
   ],
   "source": [
    "Y_pred"
   ]
  },
  {
   "cell_type": "code",
   "execution_count": 25,
   "id": "405ac409",
   "metadata": {},
   "outputs": [
    {
     "name": "stdout",
     "output_type": "stream",
     "text": [
      "Accuracy: 0.6888131743327655\n"
     ]
    }
   ],
   "source": [
    "# Calculate accuracy\n",
    "accuracy = accuracy_score(y_test_id3,Y_pred)\n",
    "\n",
    "# Display the accuracy\n",
    "print(\"Accuracy:\", accuracy)"
   ]
  },
  {
   "cell_type": "code",
   "execution_count": 26,
   "id": "8efcb6bf",
   "metadata": {},
   "outputs": [
    {
     "name": "stdout",
     "output_type": "stream",
     "text": [
      "[[364 253]\n",
      " [295 849]]\n"
     ]
    },
    {
     "data": {
      "image/png": "[encoded data removed]",
      "text/plain": [
       "<Figure size 600x400 with 2 Axes>"
      ]
     },
     "metadata": {},
     "output_type": "display_data"
    }
   ],
   "source": [
    "# confusion matrix\n",
    "cm1 = confusion_matrix(y_test_id3,Y_pred)\n",
    "print(cm1)\n",
    "# Create the heatmap with labels\n",
    "plt.figure(figsize=(6, 4))\n",
    "sns.heatmap(cm1, annot=True, fmt='d', cmap='Blues')\n",
    "\n",
    "# Set plot title and axis labels\n",
    "plt.title('Confusion Matrix')\n",
    "plt.xlabel('Predicted Label')\n",
    "plt.ylabel('True Label')\n",
    "\n",
    "# Display the plot\n",
    "plt.show()"
   ]
  },
  {
   "cell_type": "code",
   "execution_count": 27,
   "id": "926fe0e0",
   "metadata": {},
   "outputs": [
    {
     "name": "stdout",
     "output_type": "stream",
     "text": [
      "DecisionTreeClassifier classification_report:\n",
      "               precision    recall  f1-score   support\n",
      "\n",
      "           f       0.55      0.59      0.57       617\n",
      "           s       0.77      0.74      0.76      1144\n",
      "\n",
      "    accuracy                           0.69      1761\n",
      "   macro avg       0.66      0.67      0.66      1761\n",
      "weighted avg       0.69      0.69      0.69      1761\n",
      "\n"
     ]
    }
   ],
   "source": [
    "# Generate the classification report\n",
    "classification_report1= classification_report(y_test_id3,Y_pred)\n",
    "\n",
    "# Print the classification report\n",
    "print(\"DecisionTreeClassifier classification_report:\\n\",classification_report1)"
   ]
  },
  {
   "cell_type": "code",
   "execution_count": 28,
   "id": "2f3b38db",
   "metadata": {},
   "outputs": [
    {
     "data": {
      "text/plain": [
       "15896    s\n",
       "3960     s\n",
       "1477     s\n",
       "38679    s\n",
       "34136    f\n",
       "        ..\n",
       "57820    s\n",
       "27104    f\n",
       "24893    s\n",
       "41641    s\n",
       "5896     s\n",
       "Name: status, Length: 1761, dtype: object"
      ]
     },
     "execution_count": 28,
     "metadata": {},
     "output_type": "execute_result"
    }
   ],
   "source": [
    "y_test_id3"
   ]
  },
  {
   "cell_type": "markdown",
   "id": "c0a7888c",
   "metadata": {},
   "source": [
    "# RandomForestClassifier"
   ]
  },
  {
   "cell_type": "code",
   "execution_count": 29,
   "id": "5986e1bd",
   "metadata": {},
   "outputs": [],
   "source": [
    "# Define the parameter grid for GridSearchCV\n",
    "param_grid = [\n",
    "    {\n",
    "        'n_estimators': [200, 300],  # Number of trees in the forest\n",
    "        'max_depth': [5, 10],  # Maximum depth of the tree\n",
    "        'min_samples_split': [5, 10],  # Minimum number of samples required to split an internal node\n",
    "    }\n",
    "]\n",
    "\n",
    "# Create a Random Forest classifier\n",
    "rf_classifier = RandomForestClassifier()\n",
    "\n",
    "# Perform grid search with cross-validation\n",
    "grid_search = GridSearchCV(estimator=rf_classifier, param_grid=param_grid, cv=5)\n",
    "grid_search.fit(X_train_id3, y_train_id3)\n",
    "\n",
    "# Get the best model and its parameters\n",
    "best_model = grid_search.best_estimator_\n",
    "best_params = grid_search.best_params_\n"
   ]
  },
  {
   "cell_type": "code",
   "execution_count": 30,
   "id": "4c1f2dd8",
   "metadata": {},
   "outputs": [
    {
     "data": {
      "text/plain": [
       "RandomForestClassifier(max_depth=5, min_samples_split=10, n_estimators=200)"
      ]
     },
     "execution_count": 30,
     "metadata": {},
     "output_type": "execute_result"
    }
   ],
   "source": [
    "best_model "
   ]
  },
  {
   "cell_type": "code",
   "execution_count": 31,
   "id": "749bfa68",
   "metadata": {},
   "outputs": [
    {
     "data": {
      "text/plain": [
       "{'max_depth': 5, 'min_samples_split': 10, 'n_estimators': 200}"
      ]
     },
     "execution_count": 31,
     "metadata": {},
     "output_type": "execute_result"
    }
   ],
   "source": [
    "best_params "
   ]
  },
  {
   "cell_type": "code",
   "execution_count": 32,
   "id": "6b88e082",
   "metadata": {},
   "outputs": [
    {
     "data": {
      "text/plain": [
       "array(['f', 's', 's', ..., 's', 's', 's'], dtype=object)"
      ]
     },
     "execution_count": 32,
     "metadata": {},
     "output_type": "execute_result"
    }
   ],
   "source": [
    "Y_pred1=grid_search.predict(X_test_id3)\n",
    "Y_pred1"
   ]
  },
  {
   "cell_type": "code",
   "execution_count": 33,
   "id": "d3667692",
   "metadata": {},
   "outputs": [
    {
     "name": "stdout",
     "output_type": "stream",
     "text": [
      "Accuracy: 0.7654741624077229\n"
     ]
    }
   ],
   "source": [
    "# Calculate accuracy\n",
    "accuracy = accuracy_score(y_test_id3,Y_pred1)\n",
    "\n",
    "# Display the accuracy\n",
    "print(\"Accuracy:\", accuracy)"
   ]
  },
  {
   "cell_type": "code",
   "execution_count": 38,
   "id": "af702a46",
   "metadata": {},
   "outputs": [
    {
     "data": {
      "text/html": [
       "<div>\n",
       "<style scoped>\n",
       "    .dataframe tbody tr th:only-of-type {\n",
       "        vertical-align: middle;\n",
       "    }\n",
       "\n",
       "    .dataframe tbody tr th {\n",
       "        vertical-align: top;\n",
       "    }\n",
       "\n",
       "    .dataframe thead th {\n",
       "        text-align: right;\n",
       "    }\n",
       "</style>\n",
       "<table border=\"1\" class=\"dataframe\">\n",
       "  <thead>\n",
       "    <tr style=\"text-align: right;\">\n",
       "      <th></th>\n",
       "      <th>permalink</th>\n",
       "      <th>name</th>\n",
       "      <th>homepage_url</th>\n",
       "      <th>category_list</th>\n",
       "      <th>funding_total_usd</th>\n",
       "      <th>status</th>\n",
       "      <th>country_code</th>\n",
       "      <th>state_code</th>\n",
       "      <th>region</th>\n",
       "      <th>city</th>\n",
       "      <th>funding_rounds</th>\n",
       "      <th>founded_at</th>\n",
       "      <th>first_funding_at</th>\n",
       "      <th>last_funding_at</th>\n",
       "      <th>funding_period_year</th>\n",
       "    </tr>\n",
       "  </thead>\n",
       "  <tbody>\n",
       "    <tr>\n",
       "      <th>1</th>\n",
       "      <td>/organization/-qounter</td>\n",
       "      <td>:Qounter</td>\n",
       "      <td>http://www.qounter.com</td>\n",
       "      <td>Application Platforms|Real Time|Social Network...</td>\n",
       "      <td>700000.0</td>\n",
       "      <td>operating</td>\n",
       "      <td>USA</td>\n",
       "      <td>DE</td>\n",
       "      <td>DE - Other</td>\n",
       "      <td>Delaware City</td>\n",
       "      <td>2</td>\n",
       "      <td>2014-09-04</td>\n",
       "      <td>2014-03-01</td>\n",
       "      <td>2014-10-14</td>\n",
       "      <td>0.6</td>\n",
       "    </tr>\n",
       "    <tr>\n",
       "      <th>3</th>\n",
       "      <td>/organization/0-6-com</td>\n",
       "      <td>0-6.com</td>\n",
       "      <td>http://www.0-6.com</td>\n",
       "      <td>Curated Web</td>\n",
       "      <td>2000000.0</td>\n",
       "      <td>operating</td>\n",
       "      <td>CHN</td>\n",
       "      <td>22</td>\n",
       "      <td>Beijing</td>\n",
       "      <td>Beijing</td>\n",
       "      <td>1</td>\n",
       "      <td>2007-01-01</td>\n",
       "      <td>2008-03-19</td>\n",
       "      <td>2008-03-19</td>\n",
       "      <td>0.0</td>\n",
       "    </tr>\n",
       "    <tr>\n",
       "      <th>6</th>\n",
       "      <td>/organization/0ndine-biomedical-inc</td>\n",
       "      <td>Ondine Biomedical Inc.</td>\n",
       "      <td>http://ondinebio.com</td>\n",
       "      <td>Biotechnology</td>\n",
       "      <td>762851.0</td>\n",
       "      <td>operating</td>\n",
       "      <td>CAN</td>\n",
       "      <td>BC</td>\n",
       "      <td>Vancouver</td>\n",
       "      <td>Vancouver</td>\n",
       "      <td>2</td>\n",
       "      <td>1997-01-01</td>\n",
       "      <td>2009-09-11</td>\n",
       "      <td>2009-12-21</td>\n",
       "      <td>0.3</td>\n",
       "    </tr>\n",
       "    <tr>\n",
       "      <th>7</th>\n",
       "      <td>/organization/0xdata</td>\n",
       "      <td>H2O.ai</td>\n",
       "      <td>http://h2o.ai/</td>\n",
       "      <td>Analytics</td>\n",
       "      <td>33600000.0</td>\n",
       "      <td>operating</td>\n",
       "      <td>USA</td>\n",
       "      <td>CA</td>\n",
       "      <td>SF Bay Area</td>\n",
       "      <td>Mountain View</td>\n",
       "      <td>4</td>\n",
       "      <td>2011-01-01</td>\n",
       "      <td>2013-01-03</td>\n",
       "      <td>2015-11-09</td>\n",
       "      <td>2.8</td>\n",
       "    </tr>\n",
       "    <tr>\n",
       "      <th>8</th>\n",
       "      <td>/organization/1</td>\n",
       "      <td>One Inc.</td>\n",
       "      <td>http://whatis1.com</td>\n",
       "      <td>Mobile</td>\n",
       "      <td>1150050.0</td>\n",
       "      <td>operating</td>\n",
       "      <td>USA</td>\n",
       "      <td>CA</td>\n",
       "      <td>SF Bay Area</td>\n",
       "      <td>San Francisco</td>\n",
       "      <td>3</td>\n",
       "      <td>2011-08-01</td>\n",
       "      <td>2011-07-20</td>\n",
       "      <td>2014-02-05</td>\n",
       "      <td>2.5</td>\n",
       "    </tr>\n",
       "    <tr>\n",
       "      <th>...</th>\n",
       "      <td>...</td>\n",
       "      <td>...</td>\n",
       "      <td>...</td>\n",
       "      <td>...</td>\n",
       "      <td>...</td>\n",
       "      <td>...</td>\n",
       "      <td>...</td>\n",
       "      <td>...</td>\n",
       "      <td>...</td>\n",
       "      <td>...</td>\n",
       "      <td>...</td>\n",
       "      <td>...</td>\n",
       "      <td>...</td>\n",
       "      <td>...</td>\n",
       "      <td>...</td>\n",
       "    </tr>\n",
       "    <tr>\n",
       "      <th>66357</th>\n",
       "      <td>/organization/zypsee</td>\n",
       "      <td>Whisk (formerly Zypsee)</td>\n",
       "      <td>http://whisk.me</td>\n",
       "      <td>Public Transportation</td>\n",
       "      <td>2150000.0</td>\n",
       "      <td>operating</td>\n",
       "      <td>USA</td>\n",
       "      <td>NY</td>\n",
       "      <td>New York City</td>\n",
       "      <td>New York</td>\n",
       "      <td>2</td>\n",
       "      <td>2011-01-01</td>\n",
       "      <td>2013-07-26</td>\n",
       "      <td>2013-09-25</td>\n",
       "      <td>0.2</td>\n",
       "    </tr>\n",
       "    <tr>\n",
       "      <th>66361</th>\n",
       "      <td>/organization/zytoprotec</td>\n",
       "      <td>Zytoprotec</td>\n",
       "      <td>http://www.zytoprotec.com</td>\n",
       "      <td>Biotechnology</td>\n",
       "      <td>2686600.0</td>\n",
       "      <td>operating</td>\n",
       "      <td>AUT</td>\n",
       "      <td>3</td>\n",
       "      <td>Vienna</td>\n",
       "      <td>Gerasdorf Bei Wien</td>\n",
       "      <td>1</td>\n",
       "      <td>2007-01-01</td>\n",
       "      <td>2013-01-29</td>\n",
       "      <td>2013-01-29</td>\n",
       "      <td>0.0</td>\n",
       "    </tr>\n",
       "    <tr>\n",
       "      <th>66362</th>\n",
       "      <td>/organization/zzish</td>\n",
       "      <td>Zzish</td>\n",
       "      <td>http://www.zzish.com</td>\n",
       "      <td>Analytics|Android|Developer APIs|Education|Gam...</td>\n",
       "      <td>1120000.0</td>\n",
       "      <td>operating</td>\n",
       "      <td>GBR</td>\n",
       "      <td>H9</td>\n",
       "      <td>London</td>\n",
       "      <td>London</td>\n",
       "      <td>3</td>\n",
       "      <td>2014-01-28</td>\n",
       "      <td>2014-03-24</td>\n",
       "      <td>2015-02-25</td>\n",
       "      <td>0.9</td>\n",
       "    </tr>\n",
       "    <tr>\n",
       "      <th>66364</th>\n",
       "      <td>/organization/zzzzapp-com</td>\n",
       "      <td>Zzzzapp Wireless ltd.</td>\n",
       "      <td>http://www.zzzzapp.com</td>\n",
       "      <td>Advertising|Mobile|Web Development|Wireless</td>\n",
       "      <td>114304.0</td>\n",
       "      <td>operating</td>\n",
       "      <td>HRV</td>\n",
       "      <td>15</td>\n",
       "      <td>Split</td>\n",
       "      <td>Split</td>\n",
       "      <td>4</td>\n",
       "      <td>2012-05-13</td>\n",
       "      <td>2011-11-01</td>\n",
       "      <td>2014-03-01</td>\n",
       "      <td>2.3</td>\n",
       "    </tr>\n",
       "    <tr>\n",
       "      <th>66366</th>\n",
       "      <td>/organization/Ôasys-2</td>\n",
       "      <td>Ôasys</td>\n",
       "      <td>http://www.oasys.io/</td>\n",
       "      <td>Consumer Electronics|Internet of Things|Teleco...</td>\n",
       "      <td>18192.0</td>\n",
       "      <td>operating</td>\n",
       "      <td>USA</td>\n",
       "      <td>CA</td>\n",
       "      <td>SF Bay Area</td>\n",
       "      <td>San Francisco</td>\n",
       "      <td>1</td>\n",
       "      <td>2014-01-01</td>\n",
       "      <td>2015-01-01</td>\n",
       "      <td>2015-01-01</td>\n",
       "      <td>0.0</td>\n",
       "    </tr>\n",
       "  </tbody>\n",
       "</table>\n",
       "<p>29508 rows × 15 columns</p>\n",
       "</div>"
      ],
      "text/plain": [
       "                                 permalink                     name  \\\n",
       "1                   /organization/-qounter                 :Qounter   \n",
       "3                    /organization/0-6-com                  0-6.com   \n",
       "6      /organization/0ndine-biomedical-inc   Ondine Biomedical Inc.   \n",
       "7                     /organization/0xdata                   H2O.ai   \n",
       "8                          /organization/1                 One Inc.   \n",
       "...                                    ...                      ...   \n",
       "66357                 /organization/zypsee  Whisk (formerly Zypsee)   \n",
       "66361             /organization/zytoprotec               Zytoprotec   \n",
       "66362                  /organization/zzish                    Zzish   \n",
       "66364            /organization/zzzzapp-com    Zzzzapp Wireless ltd.   \n",
       "66366                /organization/Ôasys-2                    Ôasys   \n",
       "\n",
       "                    homepage_url  \\\n",
       "1         http://www.qounter.com   \n",
       "3             http://www.0-6.com   \n",
       "6           http://ondinebio.com   \n",
       "7                 http://h2o.ai/   \n",
       "8             http://whatis1.com   \n",
       "...                          ...   \n",
       "66357            http://whisk.me   \n",
       "66361  http://www.zytoprotec.com   \n",
       "66362       http://www.zzish.com   \n",
       "66364     http://www.zzzzapp.com   \n",
       "66366       http://www.oasys.io/   \n",
       "\n",
       "                                           category_list  funding_total_usd  \\\n",
       "1      Application Platforms|Real Time|Social Network...           700000.0   \n",
       "3                                            Curated Web          2000000.0   \n",
       "6                                          Biotechnology           762851.0   \n",
       "7                                              Analytics         33600000.0   \n",
       "8                                                 Mobile          1150050.0   \n",
       "...                                                  ...                ...   \n",
       "66357                              Public Transportation          2150000.0   \n",
       "66361                                      Biotechnology          2686600.0   \n",
       "66362  Analytics|Android|Developer APIs|Education|Gam...          1120000.0   \n",
       "66364        Advertising|Mobile|Web Development|Wireless           114304.0   \n",
       "66366  Consumer Electronics|Internet of Things|Teleco...            18192.0   \n",
       "\n",
       "          status country_code state_code         region                city  \\\n",
       "1      operating          USA         DE     DE - Other       Delaware City   \n",
       "3      operating          CHN         22        Beijing             Beijing   \n",
       "6      operating          CAN         BC      Vancouver           Vancouver   \n",
       "7      operating          USA         CA    SF Bay Area       Mountain View   \n",
       "8      operating          USA         CA    SF Bay Area       San Francisco   \n",
       "...          ...          ...        ...            ...                 ...   \n",
       "66357  operating          USA         NY  New York City            New York   \n",
       "66361  operating          AUT          3         Vienna  Gerasdorf Bei Wien   \n",
       "66362  operating          GBR         H9         London              London   \n",
       "66364  operating          HRV         15          Split               Split   \n",
       "66366  operating          USA         CA    SF Bay Area       San Francisco   \n",
       "\n",
       "       funding_rounds founded_at first_funding_at last_funding_at  \\\n",
       "1                   2 2014-09-04       2014-03-01      2014-10-14   \n",
       "3                   1 2007-01-01       2008-03-19      2008-03-19   \n",
       "6                   2 1997-01-01       2009-09-11      2009-12-21   \n",
       "7                   4 2011-01-01       2013-01-03      2015-11-09   \n",
       "8                   3 2011-08-01       2011-07-20      2014-02-05   \n",
       "...               ...        ...              ...             ...   \n",
       "66357               2 2011-01-01       2013-07-26      2013-09-25   \n",
       "66361               1 2007-01-01       2013-01-29      2013-01-29   \n",
       "66362               3 2014-01-28       2014-03-24      2015-02-25   \n",
       "66364               4 2012-05-13       2011-11-01      2014-03-01   \n",
       "66366               1 2014-01-01       2015-01-01      2015-01-01   \n",
       "\n",
       "       funding_period_year  \n",
       "1                      0.6  \n",
       "3                      0.0  \n",
       "6                      0.3  \n",
       "7                      2.8  \n",
       "8                      2.5  \n",
       "...                    ...  \n",
       "66357                  0.2  \n",
       "66361                  0.0  \n",
       "66362                  0.9  \n",
       "66364                  2.3  \n",
       "66366                  0.0  \n",
       "\n",
       "[29508 rows x 15 columns]"
      ]
     },
     "execution_count": 38,
     "metadata": {},
     "output_type": "execute_result"
    }
   ],
   "source": [
    "operating = startup.query(\"status == 'operating'\")\n",
    "operating['funding_period_year'] = (operating['last_funding_at'] - operating['first_funding_at']) / pd.Timedelta(days = 365.25)\n",
    "operating['funding_period_year'] = operating['funding_period_year'].round(1)\n",
    "operating"
   ]
  },
  {
   "cell_type": "code",
   "execution_count": 39,
   "id": "060839d1",
   "metadata": {},
   "outputs": [],
   "source": [
    "\n",
    "predict_set = operating[['funding_rounds', 'funding_period_year','funding_total_usd']]\n",
    "predict_set\n",
    "predicted_set =grid_search .predict(predict_set)"
   ]
  },
  {
   "cell_type": "code",
   "execution_count": 40,
   "id": "99f5a6f8",
   "metadata": {},
   "outputs": [],
   "source": [
    "predict_set['status_predicted'] = predicted_set"
   ]
  },
  {
   "cell_type": "code",
   "execution_count": 41,
   "id": "f694a1f9",
   "metadata": {},
   "outputs": [
    {
     "data": {
      "text/html": [
       "<div>\n",
       "<style scoped>\n",
       "    .dataframe tbody tr th:only-of-type {\n",
       "        vertical-align: middle;\n",
       "    }\n",
       "\n",
       "    .dataframe tbody tr th {\n",
       "        vertical-align: top;\n",
       "    }\n",
       "\n",
       "    .dataframe thead th {\n",
       "        text-align: right;\n",
       "    }\n",
       "</style>\n",
       "<table border=\"1\" class=\"dataframe\">\n",
       "  <thead>\n",
       "    <tr style=\"text-align: right;\">\n",
       "      <th></th>\n",
       "      <th>funding_rounds</th>\n",
       "      <th>funding_period_year</th>\n",
       "      <th>funding_total_usd</th>\n",
       "      <th>status_predicted</th>\n",
       "    </tr>\n",
       "  </thead>\n",
       "  <tbody>\n",
       "    <tr>\n",
       "      <th>1</th>\n",
       "      <td>2</td>\n",
       "      <td>0.6</td>\n",
       "      <td>700000.0</td>\n",
       "      <td>f</td>\n",
       "    </tr>\n",
       "    <tr>\n",
       "      <th>3</th>\n",
       "      <td>1</td>\n",
       "      <td>0.0</td>\n",
       "      <td>2000000.0</td>\n",
       "      <td>s</td>\n",
       "    </tr>\n",
       "    <tr>\n",
       "      <th>6</th>\n",
       "      <td>2</td>\n",
       "      <td>0.3</td>\n",
       "      <td>762851.0</td>\n",
       "      <td>f</td>\n",
       "    </tr>\n",
       "    <tr>\n",
       "      <th>7</th>\n",
       "      <td>4</td>\n",
       "      <td>2.8</td>\n",
       "      <td>33600000.0</td>\n",
       "      <td>s</td>\n",
       "    </tr>\n",
       "    <tr>\n",
       "      <th>8</th>\n",
       "      <td>3</td>\n",
       "      <td>2.5</td>\n",
       "      <td>1150050.0</td>\n",
       "      <td>s</td>\n",
       "    </tr>\n",
       "    <tr>\n",
       "      <th>...</th>\n",
       "      <td>...</td>\n",
       "      <td>...</td>\n",
       "      <td>...</td>\n",
       "      <td>...</td>\n",
       "    </tr>\n",
       "    <tr>\n",
       "      <th>66357</th>\n",
       "      <td>2</td>\n",
       "      <td>0.2</td>\n",
       "      <td>2150000.0</td>\n",
       "      <td>s</td>\n",
       "    </tr>\n",
       "    <tr>\n",
       "      <th>66361</th>\n",
       "      <td>1</td>\n",
       "      <td>0.0</td>\n",
       "      <td>2686600.0</td>\n",
       "      <td>s</td>\n",
       "    </tr>\n",
       "    <tr>\n",
       "      <th>66362</th>\n",
       "      <td>3</td>\n",
       "      <td>0.9</td>\n",
       "      <td>1120000.0</td>\n",
       "      <td>s</td>\n",
       "    </tr>\n",
       "    <tr>\n",
       "      <th>66364</th>\n",
       "      <td>4</td>\n",
       "      <td>2.3</td>\n",
       "      <td>114304.0</td>\n",
       "      <td>s</td>\n",
       "    </tr>\n",
       "    <tr>\n",
       "      <th>66366</th>\n",
       "      <td>1</td>\n",
       "      <td>0.0</td>\n",
       "      <td>18192.0</td>\n",
       "      <td>f</td>\n",
       "    </tr>\n",
       "  </tbody>\n",
       "</table>\n",
       "<p>29508 rows × 4 columns</p>\n",
       "</div>"
      ],
      "text/plain": [
       "       funding_rounds  funding_period_year  funding_total_usd status_predicted\n",
       "1                   2                  0.6           700000.0                f\n",
       "3                   1                  0.0          2000000.0                s\n",
       "6                   2                  0.3           762851.0                f\n",
       "7                   4                  2.8         33600000.0                s\n",
       "8                   3                  2.5          1150050.0                s\n",
       "...               ...                  ...                ...              ...\n",
       "66357               2                  0.2          2150000.0                s\n",
       "66361               1                  0.0          2686600.0                s\n",
       "66362               3                  0.9          1120000.0                s\n",
       "66364               4                  2.3           114304.0                s\n",
       "66366               1                  0.0            18192.0                f\n",
       "\n",
       "[29508 rows x 4 columns]"
      ]
     },
     "execution_count": 41,
     "metadata": {},
     "output_type": "execute_result"
    }
   ],
   "source": [
    "predict_set"
   ]
  },
  {
   "cell_type": "code",
   "execution_count": 42,
   "id": "d68af5a0",
   "metadata": {},
   "outputs": [
    {
     "data": {
      "text/html": [
       "<div>\n",
       "<style scoped>\n",
       "    .dataframe tbody tr th:only-of-type {\n",
       "        vertical-align: middle;\n",
       "    }\n",
       "\n",
       "    .dataframe tbody tr th {\n",
       "        vertical-align: top;\n",
       "    }\n",
       "\n",
       "    .dataframe thead th {\n",
       "        text-align: right;\n",
       "    }\n",
       "</style>\n",
       "<table border=\"1\" class=\"dataframe\">\n",
       "  <thead>\n",
       "    <tr style=\"text-align: right;\">\n",
       "      <th></th>\n",
       "      <th>count</th>\n",
       "    </tr>\n",
       "    <tr>\n",
       "      <th>status_predicted</th>\n",
       "      <th></th>\n",
       "    </tr>\n",
       "  </thead>\n",
       "  <tbody>\n",
       "    <tr>\n",
       "      <th>f</th>\n",
       "      <td>12646</td>\n",
       "    </tr>\n",
       "    <tr>\n",
       "      <th>s</th>\n",
       "      <td>16862</td>\n",
       "    </tr>\n",
       "  </tbody>\n",
       "</table>\n",
       "</div>"
      ],
      "text/plain": [
       "                  count\n",
       "status_predicted       \n",
       "f                 12646\n",
       "s                 16862"
      ]
     },
     "execution_count": 42,
     "metadata": {},
     "output_type": "execute_result"
    }
   ],
   "source": [
    "predict_set.groupby('status_predicted').agg({'status_predicted': 'count'}).rename(columns={'status_predicted': 'count'})"
   ]
  },
  {
   "cell_type": "code",
   "execution_count": 43,
   "id": "3c9fd84a",
   "metadata": {},
   "outputs": [
    {
     "name": "stdout",
     "output_type": "stream",
     "text": [
      "[[ 332  285]\n",
      " [ 128 1016]]\n"
     ]
    },
    {
     "data": {
      "image/png": "[encoded data removed]",
      "text/plain": [
       "<Figure size 600x400 with 2 Axes>"
      ]
     },
     "metadata": {},
     "output_type": "display_data"
    }
   ],
   "source": [
    "\n",
    "# confusion matrix\n",
    "cm = confusion_matrix(y_test_id3,Y_pred1)\n",
    "print(cm)\n",
    "# Create the heatmap with labels\n",
    "plt.figure(figsize=(6, 4))\n",
    "sns.heatmap(cm, annot=True, fmt='d', cmap='Blues')\n",
    "\n",
    "# Set plot title and axis labels\n",
    "plt.title('Confusion Matrix')\n",
    "plt.xlabel('Predicted Label')\n",
    "plt.ylabel('True Label')\n",
    "\n",
    "# Display the plot\n",
    "plt.show()"
   ]
  },
  {
   "cell_type": "code",
   "execution_count": 44,
   "id": "814b6c17",
   "metadata": {
    "scrolled": true
   },
   "outputs": [
    {
     "name": "stdout",
     "output_type": "stream",
     "text": [
      "RandomForestClassifierclassification report\n",
      "               precision    recall  f1-score   support\n",
      "\n",
      "           f       0.54      0.72      0.62       460\n",
      "           s       0.89      0.78      0.83      1301\n",
      "\n",
      "    accuracy                           0.77      1761\n",
      "   macro avg       0.71      0.75      0.72      1761\n",
      "weighted avg       0.80      0.77      0.78      1761\n",
      "\n"
     ]
    }
   ],
   "source": [
    "# Generate the classification report\n",
    "report = classification_report(Y_pred1,y_test_id3)\n",
    "\n",
    "# Print the classification report\n",
    "print(\"RandomForestClassifierclassification report\\n\",report)"
   ]
  },
  {
   "cell_type": "code",
   "execution_count": 39,
   "id": "2f338ba9",
   "metadata": {},
   "outputs": [
    {
     "data": {
      "text/plain": [
       "15896    s\n",
       "3960     s\n",
       "1477     s\n",
       "38679    s\n",
       "34136    f\n",
       "        ..\n",
       "57820    s\n",
       "27104    f\n",
       "24893    s\n",
       "41641    s\n",
       "5896     s\n",
       "Name: status, Length: 1761, dtype: object"
      ]
     },
     "execution_count": 39,
     "metadata": {},
     "output_type": "execute_result"
    }
   ],
   "source": [
    "y_test_id3"
   ]
  },
  {
   "cell_type": "code",
   "execution_count": 40,
   "id": "2eb53d39",
   "metadata": {},
   "outputs": [
    {
     "data": {
      "text/plain": [
       "array(['f', 's', 's', ..., 's', 's', 's'], dtype=object)"
      ]
     },
     "execution_count": 40,
     "metadata": {},
     "output_type": "execute_result"
    }
   ],
   "source": [
    "Y_pred1"
   ]
  },
  {
   "cell_type": "code",
   "execution_count": null,
   "id": "879827b7",
   "metadata": {},
   "outputs": [],
   "source": []
  }
 ],
 "metadata": {
  "kernelspec": {
   "display_name": "Python 3 (ipykernel)",
   "language": "python",
   "name": "python3"
  },
  "language_info": {
   "codemirror_mode": {
    "name": "ipython",
    "version": 3
   },
   "file_extension": ".py",
   "mimetype": "text/x-python",
   "name": "python",
   "nbconvert_exporter": "python",
   "pygments_lexer": "ipython3",
   "version": "3.7.5"
  }
 },
 "nbformat": 4,
 "nbformat_minor": 5
}
